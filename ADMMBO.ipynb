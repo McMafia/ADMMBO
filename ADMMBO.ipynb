{
  "nbformat": 4,
  "nbformat_minor": 0,
  "metadata": {
    "colab": {
      "name": "ADMMBO.ipynb",
      "provenance": [],
      "collapsed_sections": [],
      "authorship_tag": "ABX9TyMNyzeEopPCxl3vi0VP8bIo",
      "include_colab_link": true
    },
    "kernelspec": {
      "name": "python3",
      "display_name": "Python 3"
    },
    "language_info": {
      "name": "python"
    },
    "gpuClass": "standard"
  },
  "cells": [
    {
      "cell_type": "markdown",
      "metadata": {
        "id": "view-in-github",
        "colab_type": "text"
      },
      "source": [
        "<a href=\"https://colab.research.google.com/github/McMafia/ADMMBO/blob/main/ADMMBO.ipynb\" target=\"_parent\"><img src=\"https://colab.research.google.com/assets/colab-badge.svg\" alt=\"Open In Colab\"/></a>"
      ]
    },
    {
      "cell_type": "code",
      "source": [
        "from math import sin\n",
        "from math import pi\n",
        "from numpy import arange\n",
        "from numpy import vstack\n",
        "from numpy import argmax\n",
        "from numpy import asarray\n",
        "from numpy.random import normal\n",
        "from numpy.random import random\n",
        "from scipy.stats import norm\n",
        "from sklearn.gaussian_process import GaussianProcessRegressor\n",
        "from warnings import catch_warnings\n",
        "from warnings import simplefilter\n",
        "from matplotlib import pyplot\n",
        "import numpy as np"
      ],
      "metadata": {
        "id": "q-Mjekbr-kEM"
      },
      "execution_count": 6,
      "outputs": []
    },
    {
      "cell_type": "code",
      "source": [
        "class problem:\n",
        "  \n",
        "  def __init__(self,K,dim,n,m,delta,rho,eps,M,y1,z1,num_constraint,alpha,beta,bounds,model_opt,model_feas,F,X,C,Z):\n",
        "    self.ADMM_iter=K\n",
        "    self.dim=dim\n",
        "    self.n=n\n",
        "    self.m=m\n",
        "    self.delta=delta\n",
        "    self.rho=rho\n",
        "    self.eps=eps\n",
        "    self.M=M\n",
        "    self.y1=np.mean(y1,axis=0)\n",
        "    self.z1=np.mean(z1,axis=0)\n",
        "    self.num_constraint=num_constraint\n",
        "    self.X=X\n",
        "    self.beta=beta\n",
        "    self.B=bounds\n",
        "    self.U=[]\n",
        "    self.F=F\n",
        "    self.model_opt=model_opt\n",
        "    self.model_feas=model_feas\n",
        "    self.C=C\n",
        "    self.Z=Z\n",
        "\n",
        "  def obj_func(self,vec):\n",
        "    self.vec=vec\n",
        "    return -(np.cos((vec[0]-0.1)*vec[1]))**2-vec[0]*np.sin(3*vec[0]+vec[1])\n",
        "\n",
        "  def constr_func(self,vec):\n",
        "    t=np.arctan(vec[0]/(vec[1]+1E-9))\n",
        "    return vec[0]*vec[0]+vec[1]*vec[1]-(2*np.cos(t)-0.5*np.cos(2*t)-0.25*np.cos(3*t)-0.125*np.cos(4*t))**2 - (2*np.sin(t))**2\n",
        "  \n",
        "  def OPT(self,alpha,y1,z1):\n",
        "    self.alpha=alpha\n",
        "    self.y1=np.mean(y1,axis=0)\n",
        "    self.z1=np.mean(z1,axis=0)\n",
        "    \n",
        "    U=np.zeros(self.n)\n",
        "    U=U.reshape((self.n,-1))\n",
        "    for i in range(self.n):\n",
        "      U[i]=self.F[i]+(self.rho/2)*(np.linalg.norm(self.X[i]-self.z1+self.y1/self.rho))**2\n",
        "\n",
        "    for t in range(alpha):\n",
        "      model_opt.fit(self.X,U)\n",
        "      Xsamples=np.random.uniform(self.B[0][0],self.B[0][1],(200,self.dim))\n",
        "      \n",
        "\n",
        "      mu,std=self.surrogate_X(model_opt,Xsamples)\n",
        "      mu=np.array(mu)\n",
        "      std=np.array(std)\n",
        "      \n",
        "      best=min(U)\n",
        "      \n",
        "      l=np.empty((0,1),float)\n",
        "      probs=np.empty((0,1),float)\n",
        "\n",
        "  #doubt here    \n",
        "      for i in range(200):\n",
        "        l=np.vstack((l,(best-mu[i])/(std[i]+1E-9)))\n",
        "        #probs = np.vstack((probs,norm.cdf((best-mu[i]) / (std[i]+1E-9))))\n",
        "        probs=np.vstack((probs,std[i]*(l[i]*norm.cdf(l[i])+norm.pdf((l[i])))))\n",
        "\n",
        "      ix=np.argmax(probs)\n",
        "      self.X=np.vstack((self.X,Xsamples[ix]))\n",
        "      self.F=np.vstack((self.F,self.obj_func(Xsamples[ix])))\n",
        "      \n",
        "      U=np.vstack((U,self.obj_func(Xsamples[ix])+self.rho/2*(np.linalg.norm(Xsamples[ix]-self.z1+self.y1/self.rho))**2))\n",
        "     \n",
        "      ##############\n",
        "\n",
        "      self.n=self.n+1\n",
        "\n",
        "\n",
        "    index=np.argmin(U)\n",
        "\n",
        "    return self.X[index]\n",
        "\n",
        "  def FEAS(self,ix,xmin,y1,z1):\n",
        "    H=np.zeros((self.m[ix],1))\n",
        "    H.reshape((self.m[ix],-1))\n",
        "    self.y1=np.mean(y1,axis=0)\n",
        "    self.z1=np.mean(z1,axis=0)\n",
        "    \n",
        "    for i in range(self.m[ix]):\n",
        "      H[i]=5*int(self.C[ix][i]>0)+(self.rho/(2*self.M))*(np.linalg.norm(xmin-self.Z[ix][i]+self.y1/self.rho))**2\n",
        "    \n",
        "    hplus=min(H)\n",
        "    #print(H)\n",
        "    for t in range(self.beta[ix]):\n",
        "      model_feas[ix].fit(self.Z[ix][0:self.m[ix]],self.C[ix][0:self.m[ix]])\n",
        "      Zsamples=np.random.uniform(self.B[0][0],self.B[0][1],(100,self.dim))\n",
        "      mu,std=self.surrogate_Z(model_feas[ix],Zsamples)\n",
        "      \n",
        "      theta=np.zeros(100)\n",
        "      theta.reshape((100,-1))\n",
        "      \n",
        "      probs=np.zeros(100)\n",
        "      \n",
        "      for i in range(100):\n",
        "        \n",
        "        theta[i] = 1-norm.cdf(-mu[i]/std[i])\n",
        "        \n",
        "        if hplus - (self.rho/(2*self.M))*(np.linalg.norm(xmin-Zsamples[i]+self.y1/self.rho))**2 <= 0:\n",
        "          probs[i]=0\n",
        "        \n",
        "        if hplus-(self.rho/(2*self.M))*(np.linalg.norm(xmin-Zsamples[i]+self.y1/self.rho))**2>0 and hplus-(self.rho/(2*self.M))*(np.linalg.norm(xmin-Zsamples[i]+self.y1/self.rho))**2<=1:\n",
        "          probs[i]= (hplus-(self.rho/(2*self.M))*(np.linalg.norm(xmin-Zsamples[i]+self.y1/self.rho))**2)*(1-theta[i])\n",
        "        \n",
        "        if hplus-(self.rho/(2*self.M))*(np.linalg.norm(xmin-Zsamples[i]+self.y1/self.rho))**2>1:\n",
        "          probs[i]= (hplus-(self.rho/(2*self.M))*(np.linalg.norm(xmin-Zsamples[i]+self.y1/self.rho))**2)*(1-theta[i])+theta[i]*(hplus-1-(self.rho/(2*self.M))*(np.linalg.norm(xmin-Zsamples[i]+self.y1/self.rho))**2)\n",
        "\n",
        "      idx=np.argmax(probs)\n",
        "      #print(theta)\n",
        "      Zsamples=Zsamples.reshape(100,2)\n",
        "\n",
        "      self.Z[ix][self.m[ix]]=Zsamples[idx]\n",
        "      h=int(self.constr_func(Zsamples[idx]>0))+(self.rho/(2*self.M))*(np.linalg.norm(xmin-Zsamples[idx]+self.y1/self.rho))**2\n",
        "\n",
        "      H=np.vstack((H,np.array([h])))\n",
        "      self.C[ix][self.m[ix]]=self.constr_func(Zsamples[idx])\n",
        "\n",
        "      self.m[ix]=self.m[ix]+1\n",
        "\n",
        "    zmin=np.argmin(H)\n",
        "      \n",
        "    zmin=(self.Z[ix][zmin])\n",
        "    \n",
        "    return zmin  \n",
        "\n",
        "  def surrogate_X(self,model, X):\n",
        "\t \n",
        "    # catch any warning generated when making a prediction\n",
        "  \twith catch_warnings():\n",
        "\t\t  # ignore generated warnings\n",
        "\t  \tsimplefilter(\"ignore\")\n",
        "\t  \treturn model.predict(X, return_std=True)\n",
        "    \n",
        "  def surrogate_Z(self,model, Zsamples):\n",
        "\t \n",
        "    # catch any warning generated when making a prediction\n",
        "  \twith catch_warnings():\n",
        "\t\t  # ignore generated warnings\n",
        "\t  \tsimplefilter(\"ignore\")\n",
        "\t  \treturn model.predict(Zsamples, return_std=True)\n",
        "    \n",
        "      "
      ],
      "metadata": {
        "id": "xq4RSfrqFCYx"
      },
      "execution_count": 28,
      "outputs": []
    },
    {
      "cell_type": "code",
      "source": [
        "#initializing parameters\n",
        "K=100\n",
        "dim=2\n",
        "n=4\n",
        "m=np.array([4])\n",
        "delta=0.5\n",
        "rho=0.1\n",
        "eps=0.01\n",
        "M=40\n",
        "\n",
        "\n",
        "N=1\n",
        "\n",
        "bound=[(-2.25,2.25),(-2.25,2.25)]\n",
        "\n",
        "#creating the random initial vectors for ADMM\n",
        "y1=np.full((N,dim),0.0)\n",
        "z1=np.full((N,dim),0.0)\n",
        "\n",
        "\n",
        "\n",
        "#defining the model\n",
        "model_opt = GaussianProcessRegressor()\n",
        "model_feas=[GaussianProcessRegressor() for i in range(N)]\n",
        "\n",
        "\n",
        "\n",
        "#budgets for each of the iterations\n",
        "alpha=np.random.randint(2,5,K)\n",
        "alpha[0]=20\n",
        "beta=np.random.randint(2,5,N)\n",
        "beta[0]=20\n",
        "\n",
        "F=np.zeros(n)\n",
        "F=F.reshape((n,-1))\n",
        "X = np.zeros((n,dim))\n",
        "C=np.zeros((N, np.max(m)+np.max(beta)*K))\n",
        "Z = np.zeros((N, np.max(m)+K*np.max(beta), dim))\n",
        "\n",
        "prob=problem(K,dim,n,m,delta,rho,eps,M,y1,z1,N,alpha,beta,bound,model_opt,model_feas,F,X,C,Z)\n",
        "\n",
        "for i in range(prob.num_constraint):\n",
        "  for j in range(prob.m[i]):\n",
        "    prob.Z[i][j]=np.random.uniform(-2.25,2.5,size=(dim))\n",
        "    prob.C[i][j]=prob.constr_func(Z[i][j])\n",
        "answers=np.zeros((K+1,dim))\n",
        "for i in range(n):\n",
        "   prob.X[i]=(np.random.uniform(-2.25,2.5,prob.dim))\n",
        "\n",
        "   prob.F[i]=prob.obj_func(prob.X[i])"
      ],
      "metadata": {
        "id": "iPXwPNJeJ5pZ"
      },
      "execution_count": 29,
      "outputs": []
    },
    {
      "cell_type": "code",
      "source": [
        "def ADMMBO():\n",
        " \n",
        "  S=False\n",
        "  k=0\n",
        "  zstar=np.zeros((N,dim))\n",
        "  r=np.full((N,2),1e9)\n",
        "  s=np.full((N,2),1e9)\n",
        "  mini=1e9+0.1\n",
        "  xstar=np.array([0.0,0.0])\n",
        "  while k<prob.ADMM_iter and S==False:\n",
        "    print(k)\n",
        "    xstar=prob.OPT(alpha[k],y1,z1)\n",
        "    zprev=np.mean(z1,axis=0)\n",
        "    for i in range(prob.num_constraint):\n",
        "      \n",
        "      \n",
        "      z1[i]=prob.FEAS(i,xstar,y1,z1)\n",
        "      y1[i]=y1[i]+prob.rho*(xstar-z1[i])\n",
        "      \n",
        "      r[i]=xstar-z1[i]\n",
        "      s[i]=-prob.rho*(z1[i]-zprev)\n",
        "      \n",
        "      zprev=z1[i]\n",
        "                      \n",
        "    \n",
        "    if np.linalg.norm(r) <=prob.eps and np.linalg.norm(s) <=prob.eps:\n",
        "      S=True\n",
        "    k=k+1   \n",
        "    if(np.linalg.norm(r)>=10*np.linalg.norm(s)):\n",
        "      prob.rho=2*prob.rho\n",
        "\n",
        "    if(np.linalg.norm(s)>=np.linalg.norm(r)*10):\n",
        "      prob.rho=prob.rho/2\n",
        "    \n",
        "    answers[k]=xstar\n",
        "    print(xstar,np.linalg.norm(r),np.linalg.norm(s))\n",
        "    if(prob.constr_func(xstar)<=0):\n",
        "      print('yesssssssss')\n",
        "    \n",
        "    \n",
        "      \n",
        "\n",
        "    if S==True:\n",
        "      print(xstar,\"answer is here!!!!!\")    \n",
        "    \n",
        "      "
      ],
      "metadata": {
        "id": "FC_aqRSzRAS4"
      },
      "execution_count": 30,
      "outputs": []
    },
    {
      "cell_type": "code",
      "source": [
        "ADMMBO()"
      ],
      "metadata": {
        "id": "_dzY0ops1B_S"
      },
      "execution_count": null,
      "outputs": []
    },
    {
      "cell_type": "code",
      "source": [
        "\n",
        "import matplotlib.pyplot as plt\n",
        "import numpy as np\n",
        "\n"
      ],
      "metadata": {
        "id": "Rx991LL2UJYV"
      },
      "execution_count": 8,
      "outputs": []
    },
    {
      "cell_type": "code",
      "source": [
        "plt.scatter(answers[:,0],answers[:,1])"
      ],
      "metadata": {
        "colab": {
          "base_uri": "https://localhost:8080/",
          "height": 282
        },
        "id": "k-7LLIcFSVeB",
        "outputId": "35803fb6-cb89-4b57-fbdf-032605b0eef4"
      },
      "execution_count": 32,
      "outputs": [
        {
          "output_type": "execute_result",
          "data": {
            "text/plain": [
              "<matplotlib.collections.PathCollection at 0x7f217bb6de90>"
            ]
          },
          "metadata": {},
          "execution_count": 32
        },
        {
          "output_type": "display_data",
          "data": {
            "text/plain": [
              "<Figure size 432x288 with 1 Axes>"
            ],
            "image/png": "[encoded data removed]"
          },
          "metadata": {
            "needs_background": "light"
          }
        }
      ]
    },
    {
      "cell_type": "code",
      "source": [
        "prob.obj_func([1.94,1.26])"
      ],
      "metadata": {
        "colab": {
          "base_uri": "https://localhost:8080/"
        },
        "id": "vCmxNN4jV4eg",
        "outputId": "a3e02359-23a6-4b89-a718-6f9ce4dc9408"
      },
      "execution_count": 36,
      "outputs": [
        {
          "output_type": "execute_result",
          "data": {
            "text/plain": [
              "-1.8495999578371507"
            ]
          },
          "metadata": {},
          "execution_count": 36
        }
      ]
    },
    {
      "cell_type": "code",
      "source": [
        "prob.X.shape"
      ],
      "metadata": {
        "colab": {
          "base_uri": "https://localhost:8080/"
        },
        "id": "XLe7A8zObJr-",
        "outputId": "2388148c-1ab7-4127-efcc-d8f99e5bf726"
      },
      "execution_count": null,
      "outputs": [
        {
          "output_type": "execute_result",
          "data": {
            "text/plain": [
              "(322, 2)"
            ]
          },
          "metadata": {},
          "execution_count": 79
        }
      ]
    },
    {
      "cell_type": "code",
      "source": [
        ""
      ],
      "metadata": {
        "id": "hlZgqRp6fIyE"
      },
      "execution_count": null,
      "outputs": []
    }
  ]
}